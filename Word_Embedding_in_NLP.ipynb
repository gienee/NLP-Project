{
  "nbformat": 4,
  "nbformat_minor": 0,
  "metadata": {
    "colab": {
      "provenance": [],
      "gpuType": "T4"
    },
    "kernelspec": {
      "name": "python3",
      "display_name": "Python 3"
    },
    "language_info": {
      "name": "python"
    },
    "accelerator": "GPU"
  },
  "cells": [
    {
      "cell_type": "code",
      "source": [
        "!pip install tensorflow"
      ],
      "metadata": {
        "colab": {
          "base_uri": "https://localhost:8080/"
        },
        "id": "1JF6ogA-ilaN",
        "outputId": "a4f2f8f9-b503-49d8-e01e-cd3683081f77"
      },
      "execution_count": 1,
      "outputs": [
        {
          "output_type": "stream",
          "name": "stdout",
          "text": [
            "Requirement already satisfied: tensorflow in /usr/local/lib/python3.10/dist-packages (2.12.0)\n",
            "Requirement already satisfied: absl-py>=1.0.0 in /usr/local/lib/python3.10/dist-packages (from tensorflow) (1.4.0)\n",
            "Requirement already satisfied: astunparse>=1.6.0 in /usr/local/lib/python3.10/dist-packages (from tensorflow) (1.6.3)\n",
            "Requirement already satisfied: flatbuffers>=2.0 in /usr/local/lib/python3.10/dist-packages (from tensorflow) (23.5.26)\n",
            "Requirement already satisfied: gast<=0.4.0,>=0.2.1 in /usr/local/lib/python3.10/dist-packages (from tensorflow) (0.4.0)\n",
            "Requirement already satisfied: google-pasta>=0.1.1 in /usr/local/lib/python3.10/dist-packages (from tensorflow) (0.2.0)\n",
            "Requirement already satisfied: grpcio<2.0,>=1.24.3 in /usr/local/lib/python3.10/dist-packages (from tensorflow) (1.57.0)\n",
            "Requirement already satisfied: h5py>=2.9.0 in /usr/local/lib/python3.10/dist-packages (from tensorflow) (3.9.0)\n",
            "Requirement already satisfied: jax>=0.3.15 in /usr/local/lib/python3.10/dist-packages (from tensorflow) (0.4.14)\n",
            "Requirement already satisfied: keras<2.13,>=2.12.0 in /usr/local/lib/python3.10/dist-packages (from tensorflow) (2.12.0)\n",
            "Requirement already satisfied: libclang>=13.0.0 in /usr/local/lib/python3.10/dist-packages (from tensorflow) (16.0.6)\n",
            "Requirement already satisfied: numpy<1.24,>=1.22 in /usr/local/lib/python3.10/dist-packages (from tensorflow) (1.23.5)\n",
            "Requirement already satisfied: opt-einsum>=2.3.2 in /usr/local/lib/python3.10/dist-packages (from tensorflow) (3.3.0)\n",
            "Requirement already satisfied: packaging in /usr/local/lib/python3.10/dist-packages (from tensorflow) (23.1)\n",
            "Requirement already satisfied: protobuf!=4.21.0,!=4.21.1,!=4.21.2,!=4.21.3,!=4.21.4,!=4.21.5,<5.0.0dev,>=3.20.3 in /usr/local/lib/python3.10/dist-packages (from tensorflow) (3.20.3)\n",
            "Requirement already satisfied: setuptools in /usr/local/lib/python3.10/dist-packages (from tensorflow) (67.7.2)\n",
            "Requirement already satisfied: six>=1.12.0 in /usr/local/lib/python3.10/dist-packages (from tensorflow) (1.16.0)\n",
            "Requirement already satisfied: tensorboard<2.13,>=2.12 in /usr/local/lib/python3.10/dist-packages (from tensorflow) (2.12.3)\n",
            "Requirement already satisfied: tensorflow-estimator<2.13,>=2.12.0 in /usr/local/lib/python3.10/dist-packages (from tensorflow) (2.12.0)\n",
            "Requirement already satisfied: termcolor>=1.1.0 in /usr/local/lib/python3.10/dist-packages (from tensorflow) (2.3.0)\n",
            "Requirement already satisfied: typing-extensions>=3.6.6 in /usr/local/lib/python3.10/dist-packages (from tensorflow) (4.7.1)\n",
            "Requirement already satisfied: wrapt<1.15,>=1.11.0 in /usr/local/lib/python3.10/dist-packages (from tensorflow) (1.14.1)\n",
            "Requirement already satisfied: tensorflow-io-gcs-filesystem>=0.23.1 in /usr/local/lib/python3.10/dist-packages (from tensorflow) (0.33.0)\n",
            "Requirement already satisfied: wheel<1.0,>=0.23.0 in /usr/local/lib/python3.10/dist-packages (from astunparse>=1.6.0->tensorflow) (0.41.2)\n",
            "Requirement already satisfied: ml-dtypes>=0.2.0 in /usr/local/lib/python3.10/dist-packages (from jax>=0.3.15->tensorflow) (0.2.0)\n",
            "Requirement already satisfied: scipy>=1.7 in /usr/local/lib/python3.10/dist-packages (from jax>=0.3.15->tensorflow) (1.10.1)\n",
            "Requirement already satisfied: google-auth<3,>=1.6.3 in /usr/local/lib/python3.10/dist-packages (from tensorboard<2.13,>=2.12->tensorflow) (2.17.3)\n",
            "Requirement already satisfied: google-auth-oauthlib<1.1,>=0.5 in /usr/local/lib/python3.10/dist-packages (from tensorboard<2.13,>=2.12->tensorflow) (1.0.0)\n",
            "Requirement already satisfied: markdown>=2.6.8 in /usr/local/lib/python3.10/dist-packages (from tensorboard<2.13,>=2.12->tensorflow) (3.4.4)\n",
            "Requirement already satisfied: requests<3,>=2.21.0 in /usr/local/lib/python3.10/dist-packages (from tensorboard<2.13,>=2.12->tensorflow) (2.31.0)\n",
            "Requirement already satisfied: tensorboard-data-server<0.8.0,>=0.7.0 in /usr/local/lib/python3.10/dist-packages (from tensorboard<2.13,>=2.12->tensorflow) (0.7.1)\n",
            "Requirement already satisfied: werkzeug>=1.0.1 in /usr/local/lib/python3.10/dist-packages (from tensorboard<2.13,>=2.12->tensorflow) (2.3.7)\n",
            "Requirement already satisfied: cachetools<6.0,>=2.0.0 in /usr/local/lib/python3.10/dist-packages (from google-auth<3,>=1.6.3->tensorboard<2.13,>=2.12->tensorflow) (5.3.1)\n",
            "Requirement already satisfied: pyasn1-modules>=0.2.1 in /usr/local/lib/python3.10/dist-packages (from google-auth<3,>=1.6.3->tensorboard<2.13,>=2.12->tensorflow) (0.3.0)\n",
            "Requirement already satisfied: rsa<5,>=3.1.4 in /usr/local/lib/python3.10/dist-packages (from google-auth<3,>=1.6.3->tensorboard<2.13,>=2.12->tensorflow) (4.9)\n",
            "Requirement already satisfied: requests-oauthlib>=0.7.0 in /usr/local/lib/python3.10/dist-packages (from google-auth-oauthlib<1.1,>=0.5->tensorboard<2.13,>=2.12->tensorflow) (1.3.1)\n",
            "Requirement already satisfied: charset-normalizer<4,>=2 in /usr/local/lib/python3.10/dist-packages (from requests<3,>=2.21.0->tensorboard<2.13,>=2.12->tensorflow) (3.2.0)\n",
            "Requirement already satisfied: idna<4,>=2.5 in /usr/local/lib/python3.10/dist-packages (from requests<3,>=2.21.0->tensorboard<2.13,>=2.12->tensorflow) (3.4)\n",
            "Requirement already satisfied: urllib3<3,>=1.21.1 in /usr/local/lib/python3.10/dist-packages (from requests<3,>=2.21.0->tensorboard<2.13,>=2.12->tensorflow) (2.0.4)\n",
            "Requirement already satisfied: certifi>=2017.4.17 in /usr/local/lib/python3.10/dist-packages (from requests<3,>=2.21.0->tensorboard<2.13,>=2.12->tensorflow) (2023.7.22)\n",
            "Requirement already satisfied: MarkupSafe>=2.1.1 in /usr/local/lib/python3.10/dist-packages (from werkzeug>=1.0.1->tensorboard<2.13,>=2.12->tensorflow) (2.1.3)\n",
            "Requirement already satisfied: pyasn1<0.6.0,>=0.4.6 in /usr/local/lib/python3.10/dist-packages (from pyasn1-modules>=0.2.1->google-auth<3,>=1.6.3->tensorboard<2.13,>=2.12->tensorflow) (0.5.0)\n",
            "Requirement already satisfied: oauthlib>=3.0.0 in /usr/local/lib/python3.10/dist-packages (from requests-oauthlib>=0.7.0->google-auth-oauthlib<1.1,>=0.5->tensorboard<2.13,>=2.12->tensorflow) (3.2.2)\n"
          ]
        }
      ]
    },
    {
      "cell_type": "code",
      "source": [
        "import tensorflow as tf\n"
      ],
      "metadata": {
        "id": "kTENtLFzjKPG"
      },
      "execution_count": 2,
      "outputs": []
    },
    {
      "cell_type": "code",
      "source": [
        "print(tf.__version__)"
      ],
      "metadata": {
        "colab": {
          "base_uri": "https://localhost:8080/"
        },
        "id": "tC1PYiXHjQZU",
        "outputId": "a5691a9c-6221-4867-c8ab-00bf88882ed5"
      },
      "execution_count": 3,
      "outputs": [
        {
          "output_type": "stream",
          "name": "stdout",
          "text": [
            "2.12.0\n"
          ]
        }
      ]
    },
    {
      "cell_type": "code",
      "source": [
        "##tensorflow >2.0\n",
        "from tensorflow.keras.preprocessing.text import one_hot      ##Apply One Hot encoding for the preprocessing of the text"
      ],
      "metadata": {
        "id": "psgiqZw6jWlp"
      },
      "execution_count": 4,
      "outputs": []
    },
    {
      "cell_type": "code",
      "source": [
        "### sentences\n",
        "sent=[  'the glass of milk',\n",
        "     'the glass of juice',\n",
        "     'the cup of tea',\n",
        "    'I am a good boy',\n",
        "     'I am a good developer',\n",
        "     'understand the meaning of words',\n",
        "     'your videos are good']"
      ],
      "metadata": {
        "id": "cVAxttIpjdX-"
      },
      "execution_count": 5,
      "outputs": []
    },
    {
      "cell_type": "code",
      "source": [
        "sent"
      ],
      "metadata": {
        "colab": {
          "base_uri": "https://localhost:8080/"
        },
        "id": "dQZuzHJljqux",
        "outputId": "da4b6c5e-9625-4946-e840-3f3a3fa39bff"
      },
      "execution_count": 6,
      "outputs": [
        {
          "output_type": "execute_result",
          "data": {
            "text/plain": [
              "['the glass of milk',\n",
              " 'the glass of juice',\n",
              " 'the cup of tea',\n",
              " 'I am a good boy',\n",
              " 'I am a good developer',\n",
              " 'understand the meaning of words',\n",
              " 'your videos are good']"
            ]
          },
          "metadata": {},
          "execution_count": 6
        }
      ]
    },
    {
      "cell_type": "code",
      "source": [
        "### Vocabulary size             ##Take the maximum number of unique words in the sentence as 500 i.e vocabulary size is 500\n",
        "voc_size=500"
      ],
      "metadata": {
        "id": "4kw-NQ0Cjr2P"
      },
      "execution_count": 7,
      "outputs": []
    },
    {
      "cell_type": "code",
      "source": [
        "for words in sent:\n",
        "  print(words)"
      ],
      "metadata": {
        "colab": {
          "base_uri": "https://localhost:8080/"
        },
        "id": "jZL_mHaVppvS",
        "outputId": "22de7776-05cd-4d2a-aca3-f86713a86bbb"
      },
      "execution_count": 8,
      "outputs": [
        {
          "output_type": "stream",
          "name": "stdout",
          "text": [
            "the glass of milk\n",
            "the glass of juice\n",
            "the cup of tea\n",
            "I am a good boy\n",
            "I am a good developer\n",
            "understand the meaning of words\n",
            "your videos are good\n"
          ]
        }
      ]
    },
    {
      "cell_type": "code",
      "source": [
        "# One Hot Representation\n",
        "onehot_repr=[one_hot(words,voc_size)for words in sent]           ##it gives the index number for each words present in the sentence i.e out of the 500 unique words at which index the following given words of sentence are present\n",
        "print(onehot_repr)"
      ],
      "metadata": {
        "colab": {
          "base_uri": "https://localhost:8080/"
        },
        "id": "xAIguvhjj7Fj",
        "outputId": "86021672-b98a-417c-ca6d-9a2878730f5f"
      },
      "execution_count": 9,
      "outputs": [
        {
          "output_type": "stream",
          "name": "stdout",
          "text": [
            "[[314, 294, 67, 124], [314, 294, 67, 116], [314, 494, 67, 451], [77, 136, 10, 70, 88], [77, 136, 10, 70, 258], [455, 314, 209, 67, 177], [193, 36, 323, 70]]\n"
          ]
        }
      ]
    },
    {
      "cell_type": "code",
      "source": [
        "##Word Embedding Representation\n",
        "from tensorflow.keras.layers import Embedding\n",
        "from tensorflow.keras.preprocessing.sequence import pad_sequences\n",
        "from tensorflow.keras.models import Sequential"
      ],
      "metadata": {
        "id": "lAlbbKJFlBGv"
      },
      "execution_count": 10,
      "outputs": []
    },
    {
      "cell_type": "code",
      "source": [
        "import numpy as np"
      ],
      "metadata": {
        "id": "HV2q1yN0lcHE"
      },
      "execution_count": 11,
      "outputs": []
    },
    {
      "cell_type": "code",
      "source": [
        "## pre padding\n",
        "sent_length=8              ##Maximum length of sentence is 8... so that to trained the Neural Network we first have to convert the each sentence to the maximum length by using the prepadding\n",
        "embedded_docs=pad_sequences(onehot_repr,padding='pre',maxlen=sent_length)\n",
        "print(embedded_docs)   ## print the embedded docs"
      ],
      "metadata": {
        "colab": {
          "base_uri": "https://localhost:8080/"
        },
        "id": "U1v345SRlgYB",
        "outputId": "61a9f87c-ad38-4c5c-efdb-e6c89451f9ab"
      },
      "execution_count": 12,
      "outputs": [
        {
          "output_type": "stream",
          "name": "stdout",
          "text": [
            "[[  0   0   0   0 314 294  67 124]\n",
            " [  0   0   0   0 314 294  67 116]\n",
            " [  0   0   0   0 314 494  67 451]\n",
            " [  0   0   0  77 136  10  70  88]\n",
            " [  0   0   0  77 136  10  70 258]\n",
            " [  0   0   0 455 314 209  67 177]\n",
            " [  0   0   0   0 193  36 323  70]]\n"
          ]
        }
      ]
    },
    {
      "cell_type": "code",
      "source": [
        "## 10 feature dimesnions\n",
        "dim=10                        ##suppose the total dimension as 10 i.e total number of features is 10 i.e each and every word should be represented with 10 different values"
      ],
      "metadata": {
        "id": "MxZQey5mmlFS"
      },
      "execution_count": 13,
      "outputs": []
    },
    {
      "cell_type": "code",
      "source": [
        "##Create the embedding layers\n",
        "model=Sequential()\n",
        "model.add(Embedding(voc_size,10,input_length=sent_length))     ##gives the parameters as the maximum vocabulary size i.e 500, feature_dimension i.e 10, take the input length as the sent_length and use the optimizer as adam optimizer, loss as mse i.e mean squared error\n",
        "model.compile('adam','mse')"
      ],
      "metadata": {
        "id": "5U3LZAwCnCZr"
      },
      "execution_count": 14,
      "outputs": []
    },
    {
      "cell_type": "code",
      "source": [
        "model.summary()"
      ],
      "metadata": {
        "colab": {
          "base_uri": "https://localhost:8080/"
        },
        "id": "5yb9P_zxnmmJ",
        "outputId": "9ed87af1-0c5e-4c54-deed-c0041ad083d9"
      },
      "execution_count": 15,
      "outputs": [
        {
          "output_type": "stream",
          "name": "stdout",
          "text": [
            "Model: \"sequential\"\n",
            "_________________________________________________________________\n",
            " Layer (type)                Output Shape              Param #   \n",
            "=================================================================\n",
            " embedding (Embedding)       (None, 8, 10)             5000      \n",
            "                                                                 \n",
            "=================================================================\n",
            "Total params: 5,000\n",
            "Trainable params: 5,000\n",
            "Non-trainable params: 0\n",
            "_________________________________________________________________\n"
          ]
        }
      ]
    },
    {
      "cell_type": "code",
      "source": [
        "## for e.g 'the glass of milk'\n",
        "embedded_docs[0]"
      ],
      "metadata": {
        "colab": {
          "base_uri": "https://localhost:8080/"
        },
        "id": "0D1s-Xdxn5q-",
        "outputId": "1d1cfd02-f530-44b5-c4f3-059dd32d2ef7"
      },
      "execution_count": 16,
      "outputs": [
        {
          "output_type": "execute_result",
          "data": {
            "text/plain": [
              "array([  0,   0,   0,   0, 314, 294,  67, 124], dtype=int32)"
            ]
          },
          "metadata": {},
          "execution_count": 16
        }
      ]
    },
    {
      "cell_type": "code",
      "source": [
        "model.predict(embedded_docs[0])  ##Here, it gives the numeric data for each word represented by 10 different values"
      ],
      "metadata": {
        "colab": {
          "base_uri": "https://localhost:8080/"
        },
        "id": "dpzwpsNxoQzf",
        "outputId": "fa1b462f-102b-491e-cdc3-1d5d5ff4b2ae"
      },
      "execution_count": 17,
      "outputs": [
        {
          "output_type": "stream",
          "name": "stdout",
          "text": [
            "1/1 [==============================] - 0s 130ms/step\n"
          ]
        },
        {
          "output_type": "execute_result",
          "data": {
            "text/plain": [
              "array([[ 0.01090016, -0.03226825, -0.0268811 ,  0.01974727, -0.04785923,\n",
              "         0.01987359,  0.03860131, -0.01374207, -0.03794643, -0.00306908],\n",
              "       [ 0.01090016, -0.03226825, -0.0268811 ,  0.01974727, -0.04785923,\n",
              "         0.01987359,  0.03860131, -0.01374207, -0.03794643, -0.00306908],\n",
              "       [ 0.01090016, -0.03226825, -0.0268811 ,  0.01974727, -0.04785923,\n",
              "         0.01987359,  0.03860131, -0.01374207, -0.03794643, -0.00306908],\n",
              "       [ 0.01090016, -0.03226825, -0.0268811 ,  0.01974727, -0.04785923,\n",
              "         0.01987359,  0.03860131, -0.01374207, -0.03794643, -0.00306908],\n",
              "       [ 0.03780985, -0.04307367,  0.00915509,  0.00639266, -0.03835129,\n",
              "        -0.0331706 ,  0.02021641, -0.00455648,  0.01315368,  0.01438601],\n",
              "       [ 0.02188213, -0.01414035,  0.04393785,  0.03501965,  0.01522707,\n",
              "        -0.04994918,  0.00272436,  0.03259507,  0.02230502, -0.00084081],\n",
              "       [ 0.03392893, -0.00923955, -0.03165269, -0.00986107,  0.00274793,\n",
              "        -0.04299071, -0.03793531, -0.00665325,  0.02258784,  0.04462271],\n",
              "       [-0.0449338 , -0.04202926,  0.01338762,  0.04850719, -0.03011226,\n",
              "        -0.00847449,  0.00443894, -0.00841982,  0.03021793,  0.02249861]],\n",
              "      dtype=float32)"
            ]
          },
          "metadata": {},
          "execution_count": 17
        }
      ]
    },
    {
      "cell_type": "code",
      "source": [
        "model.predict(embedded_docs)"
      ],
      "metadata": {
        "colab": {
          "base_uri": "https://localhost:8080/"
        },
        "id": "ryFgp73dvm5H",
        "outputId": "ee50065b-289f-4916-987d-950dd8712560"
      },
      "execution_count": 18,
      "outputs": [
        {
          "output_type": "stream",
          "name": "stdout",
          "text": [
            "1/1 [==============================] - 0s 37ms/step\n"
          ]
        },
        {
          "output_type": "execute_result",
          "data": {
            "text/plain": [
              "array([[[ 0.01090016, -0.03226825, -0.0268811 ,  0.01974727,\n",
              "         -0.04785923,  0.01987359,  0.03860131, -0.01374207,\n",
              "         -0.03794643, -0.00306908],\n",
              "        [ 0.01090016, -0.03226825, -0.0268811 ,  0.01974727,\n",
              "         -0.04785923,  0.01987359,  0.03860131, -0.01374207,\n",
              "         -0.03794643, -0.00306908],\n",
              "        [ 0.01090016, -0.03226825, -0.0268811 ,  0.01974727,\n",
              "         -0.04785923,  0.01987359,  0.03860131, -0.01374207,\n",
              "         -0.03794643, -0.00306908],\n",
              "        [ 0.01090016, -0.03226825, -0.0268811 ,  0.01974727,\n",
              "         -0.04785923,  0.01987359,  0.03860131, -0.01374207,\n",
              "         -0.03794643, -0.00306908],\n",
              "        [ 0.03780985, -0.04307367,  0.00915509,  0.00639266,\n",
              "         -0.03835129, -0.0331706 ,  0.02021641, -0.00455648,\n",
              "          0.01315368,  0.01438601],\n",
              "        [ 0.02188213, -0.01414035,  0.04393785,  0.03501965,\n",
              "          0.01522707, -0.04994918,  0.00272436,  0.03259507,\n",
              "          0.02230502, -0.00084081],\n",
              "        [ 0.03392893, -0.00923955, -0.03165269, -0.00986107,\n",
              "          0.00274793, -0.04299071, -0.03793531, -0.00665325,\n",
              "          0.02258784,  0.04462271],\n",
              "        [-0.0449338 , -0.04202926,  0.01338762,  0.04850719,\n",
              "         -0.03011226, -0.00847449,  0.00443894, -0.00841982,\n",
              "          0.03021793,  0.02249861]],\n",
              "\n",
              "       [[ 0.01090016, -0.03226825, -0.0268811 ,  0.01974727,\n",
              "         -0.04785923,  0.01987359,  0.03860131, -0.01374207,\n",
              "         -0.03794643, -0.00306908],\n",
              "        [ 0.01090016, -0.03226825, -0.0268811 ,  0.01974727,\n",
              "         -0.04785923,  0.01987359,  0.03860131, -0.01374207,\n",
              "         -0.03794643, -0.00306908],\n",
              "        [ 0.01090016, -0.03226825, -0.0268811 ,  0.01974727,\n",
              "         -0.04785923,  0.01987359,  0.03860131, -0.01374207,\n",
              "         -0.03794643, -0.00306908],\n",
              "        [ 0.01090016, -0.03226825, -0.0268811 ,  0.01974727,\n",
              "         -0.04785923,  0.01987359,  0.03860131, -0.01374207,\n",
              "         -0.03794643, -0.00306908],\n",
              "        [ 0.03780985, -0.04307367,  0.00915509,  0.00639266,\n",
              "         -0.03835129, -0.0331706 ,  0.02021641, -0.00455648,\n",
              "          0.01315368,  0.01438601],\n",
              "        [ 0.02188213, -0.01414035,  0.04393785,  0.03501965,\n",
              "          0.01522707, -0.04994918,  0.00272436,  0.03259507,\n",
              "          0.02230502, -0.00084081],\n",
              "        [ 0.03392893, -0.00923955, -0.03165269, -0.00986107,\n",
              "          0.00274793, -0.04299071, -0.03793531, -0.00665325,\n",
              "          0.02258784,  0.04462271],\n",
              "        [ 0.03259278, -0.01959672,  0.02391196,  0.02213606,\n",
              "          0.00720989, -0.01452725,  0.03575105, -0.01418264,\n",
              "          0.02461913,  0.021882  ]],\n",
              "\n",
              "       [[ 0.01090016, -0.03226825, -0.0268811 ,  0.01974727,\n",
              "         -0.04785923,  0.01987359,  0.03860131, -0.01374207,\n",
              "         -0.03794643, -0.00306908],\n",
              "        [ 0.01090016, -0.03226825, -0.0268811 ,  0.01974727,\n",
              "         -0.04785923,  0.01987359,  0.03860131, -0.01374207,\n",
              "         -0.03794643, -0.00306908],\n",
              "        [ 0.01090016, -0.03226825, -0.0268811 ,  0.01974727,\n",
              "         -0.04785923,  0.01987359,  0.03860131, -0.01374207,\n",
              "         -0.03794643, -0.00306908],\n",
              "        [ 0.01090016, -0.03226825, -0.0268811 ,  0.01974727,\n",
              "         -0.04785923,  0.01987359,  0.03860131, -0.01374207,\n",
              "         -0.03794643, -0.00306908],\n",
              "        [ 0.03780985, -0.04307367,  0.00915509,  0.00639266,\n",
              "         -0.03835129, -0.0331706 ,  0.02021641, -0.00455648,\n",
              "          0.01315368,  0.01438601],\n",
              "        [-0.03199968,  0.02224736,  0.04404518,  0.01333673,\n",
              "          0.03103408, -0.02815794,  0.04297955, -0.0177036 ,\n",
              "         -0.00725033,  0.01702369],\n",
              "        [ 0.03392893, -0.00923955, -0.03165269, -0.00986107,\n",
              "          0.00274793, -0.04299071, -0.03793531, -0.00665325,\n",
              "          0.02258784,  0.04462271],\n",
              "        [-0.04008018,  0.00118421, -0.04644293, -0.0073337 ,\n",
              "         -0.00063337, -0.02205738, -0.02100351,  0.00434059,\n",
              "         -0.0465631 ,  0.03296406]],\n",
              "\n",
              "       [[ 0.01090016, -0.03226825, -0.0268811 ,  0.01974727,\n",
              "         -0.04785923,  0.01987359,  0.03860131, -0.01374207,\n",
              "         -0.03794643, -0.00306908],\n",
              "        [ 0.01090016, -0.03226825, -0.0268811 ,  0.01974727,\n",
              "         -0.04785923,  0.01987359,  0.03860131, -0.01374207,\n",
              "         -0.03794643, -0.00306908],\n",
              "        [ 0.01090016, -0.03226825, -0.0268811 ,  0.01974727,\n",
              "         -0.04785923,  0.01987359,  0.03860131, -0.01374207,\n",
              "         -0.03794643, -0.00306908],\n",
              "        [ 0.04883882, -0.02172248, -0.0172    , -0.0233938 ,\n",
              "         -0.00773526, -0.03513018,  0.02147714, -0.04787462,\n",
              "          0.03895445,  0.0117606 ],\n",
              "        [ 0.03240318, -0.0025016 , -0.03234021,  0.04049977,\n",
              "         -0.02714827, -0.03729166,  0.02171877, -0.02681801,\n",
              "         -0.00252342, -0.04108622],\n",
              "        [-0.03501789, -0.01979466, -0.00221642,  0.04162911,\n",
              "         -0.03256156, -0.02664473,  0.03908285, -0.03447548,\n",
              "         -0.00934581, -0.00280541],\n",
              "        [-0.01725328,  0.04162176, -0.01838155,  0.04359497,\n",
              "          0.04728016, -0.02048111,  0.01903273,  0.03639727,\n",
              "          0.04508114, -0.01189814],\n",
              "        [ 0.03639514,  0.00107521,  0.03198424, -0.00991174,\n",
              "         -0.04527402, -0.00406218, -0.03208269,  0.01206076,\n",
              "          0.03201563,  0.02306254]],\n",
              "\n",
              "       [[ 0.01090016, -0.03226825, -0.0268811 ,  0.01974727,\n",
              "         -0.04785923,  0.01987359,  0.03860131, -0.01374207,\n",
              "         -0.03794643, -0.00306908],\n",
              "        [ 0.01090016, -0.03226825, -0.0268811 ,  0.01974727,\n",
              "         -0.04785923,  0.01987359,  0.03860131, -0.01374207,\n",
              "         -0.03794643, -0.00306908],\n",
              "        [ 0.01090016, -0.03226825, -0.0268811 ,  0.01974727,\n",
              "         -0.04785923,  0.01987359,  0.03860131, -0.01374207,\n",
              "         -0.03794643, -0.00306908],\n",
              "        [ 0.04883882, -0.02172248, -0.0172    , -0.0233938 ,\n",
              "         -0.00773526, -0.03513018,  0.02147714, -0.04787462,\n",
              "          0.03895445,  0.0117606 ],\n",
              "        [ 0.03240318, -0.0025016 , -0.03234021,  0.04049977,\n",
              "         -0.02714827, -0.03729166,  0.02171877, -0.02681801,\n",
              "         -0.00252342, -0.04108622],\n",
              "        [-0.03501789, -0.01979466, -0.00221642,  0.04162911,\n",
              "         -0.03256156, -0.02664473,  0.03908285, -0.03447548,\n",
              "         -0.00934581, -0.00280541],\n",
              "        [-0.01725328,  0.04162176, -0.01838155,  0.04359497,\n",
              "          0.04728016, -0.02048111,  0.01903273,  0.03639727,\n",
              "          0.04508114, -0.01189814],\n",
              "        [ 0.02006496, -0.01566587, -0.01404691,  0.04487865,\n",
              "         -0.04724729,  0.02124995, -0.03240508,  0.03819672,\n",
              "         -0.03324425, -0.04881492]],\n",
              "\n",
              "       [[ 0.01090016, -0.03226825, -0.0268811 ,  0.01974727,\n",
              "         -0.04785923,  0.01987359,  0.03860131, -0.01374207,\n",
              "         -0.03794643, -0.00306908],\n",
              "        [ 0.01090016, -0.03226825, -0.0268811 ,  0.01974727,\n",
              "         -0.04785923,  0.01987359,  0.03860131, -0.01374207,\n",
              "         -0.03794643, -0.00306908],\n",
              "        [ 0.01090016, -0.03226825, -0.0268811 ,  0.01974727,\n",
              "         -0.04785923,  0.01987359,  0.03860131, -0.01374207,\n",
              "         -0.03794643, -0.00306908],\n",
              "        [-0.02890277,  0.01632284, -0.03011566,  0.02514187,\n",
              "         -0.01521046, -0.04597566,  0.04778152,  0.00882585,\n",
              "          0.00976897, -0.02039723],\n",
              "        [ 0.03780985, -0.04307367,  0.00915509,  0.00639266,\n",
              "         -0.03835129, -0.0331706 ,  0.02021641, -0.00455648,\n",
              "          0.01315368,  0.01438601],\n",
              "        [-0.03918505, -0.02588618, -0.04808232,  0.00959989,\n",
              "         -0.02547807,  0.03528745, -0.03727127, -0.03899162,\n",
              "         -0.03040491, -0.03099297],\n",
              "        [ 0.03392893, -0.00923955, -0.03165269, -0.00986107,\n",
              "          0.00274793, -0.04299071, -0.03793531, -0.00665325,\n",
              "          0.02258784,  0.04462271],\n",
              "        [-0.0456321 , -0.01532603,  0.0055406 ,  0.01753717,\n",
              "          0.00210409,  0.00235825, -0.01006418, -0.042916  ,\n",
              "          0.02309309,  0.00049448]],\n",
              "\n",
              "       [[ 0.01090016, -0.03226825, -0.0268811 ,  0.01974727,\n",
              "         -0.04785923,  0.01987359,  0.03860131, -0.01374207,\n",
              "         -0.03794643, -0.00306908],\n",
              "        [ 0.01090016, -0.03226825, -0.0268811 ,  0.01974727,\n",
              "         -0.04785923,  0.01987359,  0.03860131, -0.01374207,\n",
              "         -0.03794643, -0.00306908],\n",
              "        [ 0.01090016, -0.03226825, -0.0268811 ,  0.01974727,\n",
              "         -0.04785923,  0.01987359,  0.03860131, -0.01374207,\n",
              "         -0.03794643, -0.00306908],\n",
              "        [ 0.01090016, -0.03226825, -0.0268811 ,  0.01974727,\n",
              "         -0.04785923,  0.01987359,  0.03860131, -0.01374207,\n",
              "         -0.03794643, -0.00306908],\n",
              "        [-0.01533956, -0.045297  , -0.04676447, -0.00590486,\n",
              "          0.03096827, -0.03273219,  0.044739  ,  0.02775078,\n",
              "         -0.00291829, -0.0036051 ],\n",
              "        [ 0.00996719,  0.02987892,  0.00480822,  0.01673308,\n",
              "         -0.04954186, -0.02368013,  0.00070753, -0.02419214,\n",
              "         -0.02373341,  0.04778662],\n",
              "        [ 0.01625743, -0.01028598, -0.02140182,  0.0173022 ,\n",
              "          0.01164982, -0.04008993,  0.00866564,  0.01781628,\n",
              "         -0.04384844, -0.04544188],\n",
              "        [-0.01725328,  0.04162176, -0.01838155,  0.04359497,\n",
              "          0.04728016, -0.02048111,  0.01903273,  0.03639727,\n",
              "          0.04508114, -0.01189814]]], dtype=float32)"
            ]
          },
          "metadata": {},
          "execution_count": 18
        }
      ]
    },
    {
      "cell_type": "code",
      "source": [
        "embedded_docs[0]"
      ],
      "metadata": {
        "colab": {
          "base_uri": "https://localhost:8080/"
        },
        "id": "l121J78rwCN5",
        "outputId": "e56a07ce-4e0d-4383-9501-f72bf37fa505"
      },
      "execution_count": 19,
      "outputs": [
        {
          "output_type": "execute_result",
          "data": {
            "text/plain": [
              "array([  0,   0,   0,   0, 314, 294,  67, 124], dtype=int32)"
            ]
          },
          "metadata": {},
          "execution_count": 19
        }
      ]
    },
    {
      "cell_type": "code",
      "source": [
        "print(model.predict(embedded_docs)[0])"
      ],
      "metadata": {
        "colab": {
          "base_uri": "https://localhost:8080/"
        },
        "id": "5xWPeQBPwNfX",
        "outputId": "a6d4e722-b2ea-4145-b051-6e0b4465911f"
      },
      "execution_count": 20,
      "outputs": [
        {
          "output_type": "stream",
          "name": "stdout",
          "text": [
            "1/1 [==============================] - 0s 19ms/step\n",
            "[[ 0.01090016 -0.03226825 -0.0268811   0.01974727 -0.04785923  0.01987359\n",
            "   0.03860131 -0.01374207 -0.03794643 -0.00306908]\n",
            " [ 0.01090016 -0.03226825 -0.0268811   0.01974727 -0.04785923  0.01987359\n",
            "   0.03860131 -0.01374207 -0.03794643 -0.00306908]\n",
            " [ 0.01090016 -0.03226825 -0.0268811   0.01974727 -0.04785923  0.01987359\n",
            "   0.03860131 -0.01374207 -0.03794643 -0.00306908]\n",
            " [ 0.01090016 -0.03226825 -0.0268811   0.01974727 -0.04785923  0.01987359\n",
            "   0.03860131 -0.01374207 -0.03794643 -0.00306908]\n",
            " [ 0.03780985 -0.04307367  0.00915509  0.00639266 -0.03835129 -0.0331706\n",
            "   0.02021641 -0.00455648  0.01315368  0.01438601]\n",
            " [ 0.02188213 -0.01414035  0.04393785  0.03501965  0.01522707 -0.04994918\n",
            "   0.00272436  0.03259507  0.02230502 -0.00084081]\n",
            " [ 0.03392893 -0.00923955 -0.03165269 -0.00986107  0.00274793 -0.04299071\n",
            "  -0.03793531 -0.00665325  0.02258784  0.04462271]\n",
            " [-0.0449338  -0.04202926  0.01338762  0.04850719 -0.03011226 -0.00847449\n",
            "   0.00443894 -0.00841982  0.03021793  0.02249861]]\n"
          ]
        }
      ]
    },
    {
      "cell_type": "code",
      "source": [],
      "metadata": {
        "id": "SNOlvlfaCFwB"
      },
      "execution_count": null,
      "outputs": []
    }
  ]
}